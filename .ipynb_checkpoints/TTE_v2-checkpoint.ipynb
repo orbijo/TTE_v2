{
 "cells": [
  {
   "cell_type": "code",
   "execution_count": 1,
   "id": "11b287da-8374-4daf-b8cf-3ec662ef377a",
   "metadata": {},
   "outputs": [],
   "source": [
    "import os\n",
    "import pandas as pd\n",
    "import numpy as np\n",
    "from sklearn.linear_model import LogisticRegression\n",
    "import statsmodels.api as sm\n",
    "from patsy import dmatrices"
   ]
  },
  {
   "cell_type": "code",
   "execution_count": 2,
   "id": "ad53676a-eca5-4401-b406-32e7760ffbe8",
   "metadata": {},
   "outputs": [
    {
     "name": "stdout",
     "output_type": "stream",
     "text": [
      "   Unnamed: 0  id  period  treatment  x1        x2  x3        x4  age  \\\n",
      "0           1   1       0          1   1  1.146148   0  0.734203   36   \n",
      "1           2   1       1          1   1  0.002200   0  0.734203   37   \n",
      "2           3   1       2          1   0 -0.481762   0  0.734203   38   \n",
      "3           4   1       3          1   0  0.007872   0  0.734203   39   \n",
      "4           5   1       4          1   1  0.216054   0  0.734203   40   \n",
      "\n",
      "      age_s  outcome  censored  eligible  \n",
      "0  0.083333        0         0         1  \n",
      "1  0.166667        0         0         0  \n",
      "2  0.250000        0         0         0  \n",
      "3  0.333333        0         0         0  \n",
      "4  0.416667        0         0         0  \n"
     ]
    }
   ],
   "source": [
    "# Load the dummy data\n",
    "file_path = \"data_censored.csv\"\n",
    "data_censored = pd.read_csv(file_path)\n",
    "print(data_censored.head())"
   ]
  },
  {
   "cell_type": "code",
   "execution_count": 3,
   "id": "ff516971-93e8-48c3-903e-922a56b2118f",
   "metadata": {},
   "outputs": [],
   "source": [
    "# Define directories for trial outputs\n",
    "trial_pp_dir = os.path.join(os.getcwd(), \"trial_pp\")\n",
    "trial_itt_dir = os.path.join(os.getcwd(), \"trial_itt\")\n",
    "os.makedirs(trial_pp_dir, exist_ok=True)\n",
    "os.makedirs(trial_itt_dir, exist_ok=True)"
   ]
  },
  {
   "cell_type": "code",
   "execution_count": 4,
   "id": "52bc83cf-40b2-457e-aae9-a57aae5a41f9",
   "metadata": {},
   "outputs": [],
   "source": [
    "# Define Per-Protocol (PP) and Intention-To-Treat (ITT) trials\n",
    "trial_pp = {}\n",
    "trial_itt = {}"
   ]
  },
  {
   "cell_type": "code",
   "execution_count": 5,
   "id": "79b26d6f-02ba-4aa6-bbd0-d8800999e728",
   "metadata": {},
   "outputs": [],
   "source": [
    "# Assign data to trials\n",
    "def set_data(trial, data, id_col, period_col, treatment_col, outcome_col, eligible_col):\n",
    "    trial[\"data\"] = data\n",
    "    trial[\"id\"] = id_col\n",
    "    trial[\"period\"] = period_col\n",
    "    trial[\"treatment\"] = treatment_col\n",
    "    trial[\"outcome\"] = outcome_col\n",
    "    trial[\"eligible\"] = eligible_col\n",
    "    return trial"
   ]
  },
  {
   "cell_type": "code",
   "execution_count": 6,
   "id": "4ebc1203-cc55-4235-b981-ac5c3854da70",
   "metadata": {},
   "outputs": [],
   "source": [
    "trial_pp = set_data(trial_pp, data_censored, \"id\", \"period\", \"treatment\", \"outcome\", \"eligible\")\n",
    "trial_itt = set_data(trial_itt, data_censored, \"id\", \"period\", \"treatment\", \"outcome\", \"eligible\")"
   ]
  },
  {
   "cell_type": "code",
   "execution_count": 7,
   "id": "95c325bd-af69-4022-9417-60e05990fa98",
   "metadata": {},
   "outputs": [
    {
     "name": "stdout",
     "output_type": "stream",
     "text": [
      "Optimization terminated successfully.\n",
      "         Current function value: 0.487566\n",
      "         Iterations 6\n",
      "Optimization terminated successfully.\n",
      "         Current function value: 0.267425\n",
      "         Iterations 7\n"
     ]
    }
   ],
   "source": [
    "# Fit logistic regression models for switch weight and censor weight\n",
    "def fit_logistic_regression(formula, data, save_path):\n",
    "    y, X = dmatrices(formula, data, return_type='dataframe')\n",
    "    model = sm.Logit(y, X).fit()\n",
    "    model.save(save_path)\n",
    "    return model\n",
    "\n",
    "trial_pp[\"switch_weights_model\"] = fit_logistic_regression(\"eligible ~ age + x1 + x3\", data_censored,\n",
    "    os.path.join(trial_pp_dir, \"switch_models.pkl\"))\n",
    "trial_pp[\"censor_weights_model\"] = fit_logistic_regression(\"censored ~ x2 + x1\", data_censored,\n",
    "    os.path.join(trial_pp_dir, \"censor_models.pkl\"))"
   ]
  },
  {
   "cell_type": "code",
   "execution_count": 8,
   "id": "8b4586ba-0c28-44d9-8a17-242d22a174ff",
   "metadata": {},
   "outputs": [],
   "source": [
    "# Calculate weights\n",
    "def calculate_weights(trial):\n",
    "    trial[\"weights\"] = np.ones(len(trial[\"data\"]))  # Placeholder for actual calculation\n",
    "    return trial"
   ]
  },
  {
   "cell_type": "code",
   "execution_count": 9,
   "id": "a01c7a51-53e1-4ff3-8828-0afadc191ce6",
   "metadata": {},
   "outputs": [],
   "source": [
    "trial_pp = calculate_weights(trial_pp)\n",
    "trial_itt = calculate_weights(trial_itt)"
   ]
  },
  {
   "cell_type": "code",
   "execution_count": 10,
   "id": "34ff176a-313d-459b-92ef-6cea5a293c49",
   "metadata": {},
   "outputs": [],
   "source": [
    "# Fit the outcome model\n",
    "def fit_outcome_model(trial, adjustment_terms=None):\n",
    "    predictors = [\"treatment\"]\n",
    "    if adjustment_terms:\n",
    "        predictors += adjustment_terms\n",
    "    X = trial[\"data\"][predictors]\n",
    "    y = trial[\"data\"][\"outcome\"]\n",
    "    X = sm.add_constant(X)\n",
    "    model = sm.OLS(y, X).fit()\n",
    "    trial[\"outcome_model\"] = model\n",
    "    return trial"
   ]
  },
  {
   "cell_type": "code",
   "execution_count": 11,
   "id": "a1220297-c669-43f3-b45b-f72dcbf3beee",
   "metadata": {},
   "outputs": [],
   "source": [
    "trial_pp = fit_outcome_model(trial_pp)\n",
    "trial_itt = fit_outcome_model(trial_itt, adjustment_terms=[\"x2\"])"
   ]
  },
  {
   "cell_type": "code",
   "execution_count": 12,
   "id": "4375d345-ad57-4385-9da8-98432efa02ee",
   "metadata": {},
   "outputs": [],
   "source": [
    "# Function to generate predictions\n",
    "def predict_survival(model, new_data):\n",
    "    predictions = model.predict(new_data)\n",
    "    return predictions"
   ]
  },
  {
   "cell_type": "code",
   "execution_count": 14,
   "id": "7f5fe58f-acf6-4dcb-bab7-2e949b0550db",
   "metadata": {},
   "outputs": [
    {
     "name": "stdout",
     "output_type": "stream",
     "text": [
      "Index(['Unnamed: 0', 'id', 'period', 'treatment', 'x1', 'x2', 'x3', 'x4',\n",
      "       'age', 'age_s', 'outcome', 'censored', 'eligible'],\n",
      "      dtype='object')\n",
      "['const', 'treatment', 'x2']\n"
     ]
    }
   ],
   "source": [
    "# Extract relevant columns\n",
    "new_data = trial_itt[\"data\"][trial_itt[\"data\"][\"period\"] == 1].copy()\n",
    "\n",
    "# Ensure `const` column exists for the intercept\n",
    "new_data = sm.add_constant(new_data, has_constant=\"add\")\n",
    "\n",
    "# Select only the columns that match the trained model\n",
    "new_data = new_data[[\"const\", \"treatment\", \"x2\"]]\n",
    "\n",
    "# Predict using the trained model\n",
    "preds = trial_itt[\"outcome_model\"].predict(new_data)"
   ]
  },
  {
   "cell_type": "code",
   "execution_count": 13,
   "id": "5e05496c-c9bb-492a-b987-c2aa4dbd275c",
   "metadata": {},
   "outputs": [
    {
     "ename": "ValueError",
     "evalue": "shapes (62,13) and (3,) not aligned: 13 (dim 1) != 3 (dim 0)",
     "output_type": "error",
     "traceback": [
      "\u001b[1;31m---------------------------------------------------------------------------\u001b[0m",
      "\u001b[1;31mValueError\u001b[0m                                Traceback (most recent call last)",
      "Cell \u001b[1;32mIn[13], line 2\u001b[0m\n\u001b[0;32m      1\u001b[0m new_data \u001b[38;5;241m=\u001b[39m trial_itt[\u001b[38;5;124m\"\u001b[39m\u001b[38;5;124mdata\u001b[39m\u001b[38;5;124m\"\u001b[39m][trial_itt[\u001b[38;5;124m\"\u001b[39m\u001b[38;5;124mdata\u001b[39m\u001b[38;5;124m\"\u001b[39m][\u001b[38;5;124m\"\u001b[39m\u001b[38;5;124mperiod\u001b[39m\u001b[38;5;124m\"\u001b[39m] \u001b[38;5;241m==\u001b[39m \u001b[38;5;241m1\u001b[39m]\n\u001b[1;32m----> 2\u001b[0m preds \u001b[38;5;241m=\u001b[39m \u001b[43mpredict_survival\u001b[49m\u001b[43m(\u001b[49m\u001b[43mtrial_itt\u001b[49m\u001b[43m[\u001b[49m\u001b[38;5;124;43m\"\u001b[39;49m\u001b[38;5;124;43moutcome_model\u001b[39;49m\u001b[38;5;124;43m\"\u001b[39;49m\u001b[43m]\u001b[49m\u001b[43m,\u001b[49m\u001b[43m \u001b[49m\u001b[43mnew_data\u001b[49m\u001b[43m)\u001b[49m\n",
      "Cell \u001b[1;32mIn[12], line 3\u001b[0m, in \u001b[0;36mpredict_survival\u001b[1;34m(model, new_data)\u001b[0m\n\u001b[0;32m      2\u001b[0m \u001b[38;5;28;01mdef\u001b[39;00m\u001b[38;5;250m \u001b[39m\u001b[38;5;21mpredict_survival\u001b[39m(model, new_data):\n\u001b[1;32m----> 3\u001b[0m     predictions \u001b[38;5;241m=\u001b[39m \u001b[43mmodel\u001b[49m\u001b[38;5;241;43m.\u001b[39;49m\u001b[43mpredict\u001b[49m\u001b[43m(\u001b[49m\u001b[43mnew_data\u001b[49m\u001b[43m)\u001b[49m\n\u001b[0;32m      4\u001b[0m     \u001b[38;5;28;01mreturn\u001b[39;00m predictions\n",
      "File \u001b[1;32m~\\AppData\\Local\\Programs\\Python\\Python313\\Lib\\site-packages\\statsmodels\\base\\model.py:1174\u001b[0m, in \u001b[0;36mResults.predict\u001b[1;34m(self, exog, transform, *args, **kwargs)\u001b[0m\n\u001b[0;32m   1127\u001b[0m \u001b[38;5;250m\u001b[39m\u001b[38;5;124;03m\"\"\"\u001b[39;00m\n\u001b[0;32m   1128\u001b[0m \u001b[38;5;124;03mCall self.model.predict with self.params as the first argument.\u001b[39;00m\n\u001b[0;32m   1129\u001b[0m \n\u001b[1;32m   (...)\u001b[0m\n\u001b[0;32m   1169\u001b[0m \u001b[38;5;124;03mreturned prediction.\u001b[39;00m\n\u001b[0;32m   1170\u001b[0m \u001b[38;5;124;03m\"\"\"\u001b[39;00m\n\u001b[0;32m   1171\u001b[0m exog, exog_index \u001b[38;5;241m=\u001b[39m \u001b[38;5;28mself\u001b[39m\u001b[38;5;241m.\u001b[39m_transform_predict_exog(exog,\n\u001b[0;32m   1172\u001b[0m                                                 transform\u001b[38;5;241m=\u001b[39mtransform)\n\u001b[1;32m-> 1174\u001b[0m predict_results \u001b[38;5;241m=\u001b[39m \u001b[38;5;28;43mself\u001b[39;49m\u001b[38;5;241;43m.\u001b[39;49m\u001b[43mmodel\u001b[49m\u001b[38;5;241;43m.\u001b[39;49m\u001b[43mpredict\u001b[49m\u001b[43m(\u001b[49m\u001b[38;5;28;43mself\u001b[39;49m\u001b[38;5;241;43m.\u001b[39;49m\u001b[43mparams\u001b[49m\u001b[43m,\u001b[49m\u001b[43m \u001b[49m\u001b[43mexog\u001b[49m\u001b[43m,\u001b[49m\u001b[43m \u001b[49m\u001b[38;5;241;43m*\u001b[39;49m\u001b[43margs\u001b[49m\u001b[43m,\u001b[49m\n\u001b[0;32m   1175\u001b[0m \u001b[43m                                     \u001b[49m\u001b[38;5;241;43m*\u001b[39;49m\u001b[38;5;241;43m*\u001b[39;49m\u001b[43mkwargs\u001b[49m\u001b[43m)\u001b[49m\n\u001b[0;32m   1177\u001b[0m \u001b[38;5;28;01mif\u001b[39;00m exog_index \u001b[38;5;129;01mis\u001b[39;00m \u001b[38;5;129;01mnot\u001b[39;00m \u001b[38;5;28;01mNone\u001b[39;00m \u001b[38;5;129;01mand\u001b[39;00m \u001b[38;5;129;01mnot\u001b[39;00m \u001b[38;5;28mhasattr\u001b[39m(predict_results,\n\u001b[0;32m   1178\u001b[0m                                           \u001b[38;5;124m'\u001b[39m\u001b[38;5;124mpredicted_values\u001b[39m\u001b[38;5;124m'\u001b[39m):\n\u001b[0;32m   1179\u001b[0m     \u001b[38;5;28;01mif\u001b[39;00m predict_results\u001b[38;5;241m.\u001b[39mndim \u001b[38;5;241m==\u001b[39m \u001b[38;5;241m1\u001b[39m:\n",
      "File \u001b[1;32m~\\AppData\\Local\\Programs\\Python\\Python313\\Lib\\site-packages\\statsmodels\\regression\\linear_model.py:409\u001b[0m, in \u001b[0;36mRegressionModel.predict\u001b[1;34m(self, params, exog)\u001b[0m\n\u001b[0;32m    406\u001b[0m \u001b[38;5;28;01mif\u001b[39;00m exog \u001b[38;5;129;01mis\u001b[39;00m \u001b[38;5;28;01mNone\u001b[39;00m:\n\u001b[0;32m    407\u001b[0m     exog \u001b[38;5;241m=\u001b[39m \u001b[38;5;28mself\u001b[39m\u001b[38;5;241m.\u001b[39mexog\n\u001b[1;32m--> 409\u001b[0m \u001b[38;5;28;01mreturn\u001b[39;00m \u001b[43mnp\u001b[49m\u001b[38;5;241;43m.\u001b[39;49m\u001b[43mdot\u001b[49m\u001b[43m(\u001b[49m\u001b[43mexog\u001b[49m\u001b[43m,\u001b[49m\u001b[43m \u001b[49m\u001b[43mparams\u001b[49m\u001b[43m)\u001b[49m\n",
      "\u001b[1;31mValueError\u001b[0m: shapes (62,13) and (3,) not aligned: 13 (dim 1) != 3 (dim 0)"
     ]
    }
   ],
   "source": [
    "new_data = trial_itt[\"data\"][trial_itt[\"data\"][\"period\"] == 1]\n",
    "preds = predict_survival(trial_itt[\"outcome_model\"], new_data)"
   ]
  },
  {
   "cell_type": "code",
   "execution_count": null,
   "id": "21bb4820-befd-486f-8260-5a741d98056b",
   "metadata": {},
   "outputs": [],
   "source": [
    "# Plot survival difference\n",
    "import matplotlib.pyplot as plt\n",
    "plt.plot(range(len(preds)), preds, label='Survival Difference')\n",
    "plt.xlabel(\"Follow-up Time\")\n",
    "plt.ylabel(\"Survival Difference\")\n",
    "plt.legend()\n",
    "plt.show()"
   ]
  }
 ],
 "metadata": {
  "kernelspec": {
   "display_name": "Python 3 (ipykernel)",
   "language": "python",
   "name": "python3"
  },
  "language_info": {
   "codemirror_mode": {
    "name": "ipython",
    "version": 3
   },
   "file_extension": ".py",
   "mimetype": "text/x-python",
   "name": "python",
   "nbconvert_exporter": "python",
   "pygments_lexer": "ipython3",
   "version": "3.13.1"
  }
 },
 "nbformat": 4,
 "nbformat_minor": 5
}
