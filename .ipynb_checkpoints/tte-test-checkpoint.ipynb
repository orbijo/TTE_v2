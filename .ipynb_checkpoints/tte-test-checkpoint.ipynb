{
 "cells": [
  {
   "cell_type": "code",
   "execution_count": 1,
   "id": "a5414734-b701-419a-a197-9d21d7b6048f",
   "metadata": {},
   "outputs": [],
   "source": [
    "import os\n",
    "import pandas as pd\n",
    "import numpy as np\n",
    "from sklearn.linear_model import LogisticRegression\n",
    "from lifelines import KaplanMeierFitter\n",
    "import matplotlib.pyplot as plt"
   ]
  },
  {
   "cell_type": "code",
   "execution_count": 2,
   "id": "c3bcaad9-cf6c-49eb-ba79-dee1d422c4e8",
   "metadata": {},
   "outputs": [],
   "source": [
    "# 1. Setup: Define directories\n",
    "trial_pp_dir = os.path.join(os.getcwd(), \"trial_pp\")\n",
    "trial_itt_dir = os.path.join(os.getcwd(), \"trial_itt\")\n",
    "os.makedirs(trial_pp_dir, exist_ok=True)\n",
    "os.makedirs(trial_itt_dir, exist_ok=True)"
   ]
  },
  {
   "cell_type": "code",
   "execution_count": 3,
   "id": "1c92b71d-2e20-45db-a84d-a1a65f44f387",
   "metadata": {},
   "outputs": [],
   "source": [
    "# 2. Data Preparation (Load CSV instead of mock data)\n",
    "data_censored = pd.read_csv(\"data_censored.csv\")\n",
    "data_censored.drop(columns=[\"Unnamed: 0\"], inplace=True)  # Drop unnecessary index column"
   ]
  },
  {
   "cell_type": "code",
   "execution_count": 4,
   "id": "c223b7fa-f1c8-4d6e-b9a8-ff2ff8b2e2b7",
   "metadata": {},
   "outputs": [],
   "source": [
    "# Per-Protocol (PP) and Intention-to-Treat (ITT) trial objects\n",
    "trial_pp = data_censored.copy()\n",
    "trial_itt = data_censored.copy()"
   ]
  },
  {
   "cell_type": "code",
   "execution_count": 5,
   "id": "fffd197f-561e-438f-95ef-e8a55c7a539c",
   "metadata": {},
   "outputs": [],
   "source": [
    "# 3. Weight models and censoring\n",
    "# Censoring due to treatment switching\n",
    "logit_switch = LogisticRegression()\n",
    "logit_switch.fit(trial_pp[[\"age\", \"x1\", \"x3\"]], trial_pp[\"treatment\"])\n",
    "trial_pp[\"switch_weight\"] = logit_switch.predict_proba(trial_pp[[\"age\", \"x1\", \"x3\"]])[:, 1]"
   ]
  },
  {
   "cell_type": "code",
   "execution_count": 6,
   "id": "cdf8035e-fcdf-4600-a853-e3b26cd6c049",
   "metadata": {},
   "outputs": [],
   "source": [
    "# Other informative censoring\n",
    "logit_censor = LogisticRegression()\n",
    "logit_censor.fit(trial_pp[[\"x2\", \"x1\"]], trial_pp[\"censored\"])\n",
    "trial_pp[\"censor_weight\"] = logit_censor.predict_proba(trial_pp[[\"x2\", \"x1\"]])[:, 1]"
   ]
  },
  {
   "cell_type": "code",
   "execution_count": 7,
   "id": "2e1837e5-d3be-4044-86d6-6777a7f591ec",
   "metadata": {},
   "outputs": [],
   "source": [
    "# Apply same to ITT\n",
    "logit_censor_itt = LogisticRegression()\n",
    "logit_censor_itt.fit(trial_itt[[\"x2\", \"x1\"]], trial_itt[\"censored\"])\n",
    "trial_itt[\"censor_weight\"] = logit_censor_itt.predict_proba(trial_itt[[\"x2\", \"x1\"]])[:, 1]"
   ]
  },
  {
   "cell_type": "code",
   "execution_count": 8,
   "id": "59469a33-80e5-4c47-af67-b3ebf3346c8a",
   "metadata": {},
   "outputs": [
    {
     "data": {
      "text/plain": [
       "<lifelines.KaplanMeierFitter:\"KM_estimate\", fitted with 725 total observations, 714 right-censored observations>"
      ]
     },
     "execution_count": 8,
     "metadata": {},
     "output_type": "execute_result"
    }
   ],
   "source": [
    "# 4. Outcome Model using Kaplan-Meier Estimator\n",
    "kmf = KaplanMeierFitter()\n",
    "kmf.fit(durations=trial_itt[\"period\"], event_observed=trial_itt[\"outcome\"])"
   ]
  },
  {
   "cell_type": "code",
   "execution_count": 9,
   "id": "1fb72be9-3674-478e-99bd-78f4dcd42760",
   "metadata": {},
   "outputs": [],
   "source": [
    "# 5. Survival Predictions\n",
    "survival_times = np.arange(0, 11)\n",
    "survival_probs = kmf.predict(survival_times)"
   ]
  },
  {
   "cell_type": "code",
   "execution_count": 11,
   "id": "c5f0f265-f79b-4bf4-bf87-b4686f337316",
   "metadata": {},
   "outputs": [
    {
     "data": {
      "image/png": "[encoded data removed]",
      "text/plain": [
       "<Figure size 640x480 with 1 Axes>"
      ]
     },
     "metadata": {},
     "output_type": "display_data"
    }
   ],
   "source": [
    "# 6. Plot Survival Difference\n",
    "plt.plot(survival_times, survival_probs, label='Survival Probability')\n",
    "plt.xlabel(\"Follow up\")\n",
    "plt.ylabel(\"Survival Probability\")\n",
    "plt.legend()\n",
    "plt.show()"
   ]
  },
  {
   "cell_type": "code",
   "execution_count": null,
   "id": "a3adda24-c9c2-4da9-9a6c-5ed5f5dbf97b",
   "metadata": {},
   "outputs": [],
   "source": []
  }
 ],
 "metadata": {
  "kernelspec": {
   "display_name": "Python 3 (ipykernel)",
   "language": "python",
   "name": "python3"
  },
  "language_info": {
   "codemirror_mode": {
    "name": "ipython",
    "version": 3
   },
   "file_extension": ".py",
   "mimetype": "text/x-python",
   "name": "python",
   "nbconvert_exporter": "python",
   "pygments_lexer": "ipython3",
   "version": "3.13.1"
  }
 },
 "nbformat": 4,
 "nbformat_minor": 5
}
